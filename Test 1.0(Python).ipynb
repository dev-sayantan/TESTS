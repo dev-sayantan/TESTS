{
 "cells": [
  {
   "cell_type": "code",
   "execution_count": null,
   "id": "8019c971-b3c7-4de7-80b8-5f6429d76376",
   "metadata": {},
   "outputs": [],
   "source": [
    "# Jupyter Notebook for Python Basics Practice\n",
    "\n",
    "## Multiple-Choice Questions (MCQs)\n",
    "\n",
    "### Question 1\n",
    "# What is the output of the following code?\n",
    "# print(type(5.0))\n",
    "# a) int\n",
    "# b) float\n",
    "# c) str\n",
    "# d) list\n",
    "\n",
    "### Question 2\n",
    "# What is the correct syntax to output \"Hello World\" in Python?\n",
    "# a) echo \"Hello World\"\n",
    "# b) print(\"Hello World\")\n",
    "# c) printf(\"Hello World\")\n",
    "# d) System.out.println(\"Hello World\")\n",
    "\n",
    "### Question 3\n",
    "# Which of the following is a correct variable declaration in Python?\n",
    "# a) var x = 10\n",
    "# b) int x = 10\n",
    "# c) x = 10\n",
    "# d) declare x = 10\n",
    "\n",
    "### Question 4\n",
    "# What is the output of the following code?\n",
    "# print(2 ** 3)\n",
    "# a) 6\n",
    "# b) 8\n",
    "# c) 9\n",
    "# d) 12\n",
    "\n",
    "### Question 5\n",
    "# Which of the following is used to define a block of code in Python?\n",
    "# a) Curly braces\n",
    "# b) Parentheses\n",
    "# c) Indentation\n",
    "# d) Quotation marks\n",
    "\n",
    "### Question 6\n",
    "# How do you start a comment in Python?\n",
    "# a) //\n",
    "# b) /*\n",
    "# c) <!--\n",
    "# d) #\n",
    "\n",
    "### Question 7\n",
    "# What is the output of the following code?\n",
    "# print(\"Hello\" + \" \" + \"World\")\n",
    "# a) Hello World\n",
    "# b) HelloWorld\n",
    "# c) Hello+World\n",
    "# d) Error\n",
    "\n",
    "### Question 8\n",
    "# Which of the following is the correct way to create a list in Python?\n",
    "# a) list = [1, 2, 3]\n",
    "# b) list = (1, 2, 3)\n",
    "# c) list = {1, 2, 3}\n",
    "# d) list = 1, 2, 3\n",
    "\n",
    "### Question 9\n",
    "# What is the output of the following code?\n",
    "# a = [1, 2, 3]\n",
    "# print(len(a))\n",
    "# a) 2\n",
    "# b) 3\n",
    "# c) 4\n",
    "# d) Error\n",
    "\n",
    "### Question 10\n",
    "# Which of the following statements is true?\n",
    "# a) A tuple is mutable\n",
    "# b) A list is immutable\n",
    "# c) A tuple is immutable\n",
    "# d) A list is immutable and a tuple is mutable\n",
    "\n",
    "### Question 11\n",
    "# What will be the output of the following code?\n",
    "# x = 10\n",
    "# if x > 5:\n",
    "#     print(\"Greater\")\n",
    "# else:\n",
    "#     print(\"Smaller\")\n",
    "# a) Greater\n",
    "# b) Smaller\n",
    "# c) Error\n",
    "# d) None of the above\n",
    "\n",
    "### Question 12\n",
    "# How do you create a dictionary in Python?\n",
    "# a) dict = [1, 2, 3]\n",
    "# b) dict = {1, 2, 3}\n",
    "# c) dict = {\"one\": 1, \"two\": 2, \"three\": 3}\n",
    "# d) dict = (1, 2, 3)\n",
    "\n",
    "### Question 13\n",
    "# What is the output of the following code?\n",
    "# x = [1, 2, 3, 4]\n",
    "# print(x[1:3])\n",
    "# a) [1, 2]\n",
    "# b) [2, 3]\n",
    "# c) [3, 4]\n",
    "# d) [2, 3, 4]\n",
    "\n",
    "### Question 14\n",
    "# Which of the following methods can be used to add an element to a list?\n",
    "# a) append()\n",
    "# b) add()\n",
    "# c) insert()\n",
    "# d) extend()\n",
    "\n",
    "### Question 15\n",
    "# What is the correct way to handle exceptions in Python?\n",
    "# a) try-except\n",
    "# b) try-catch\n",
    "# c) do-except\n",
    "# d) do-catch\n",
    "\n",
    "---\n",
    "\n",
    "## Practice Questions\n",
    "\n",
    "### Question 1\n",
    "# Write a Python program to check if a number is even or odd.\n",
    "\n",
    "number = int(input(\"Enter a number: \"))\n",
    "if number % 2 == 0:\n",
    "    print(f\"{number} is even.\")\n",
    "else:\n",
    "    print(f\"{number} is odd.\")\n",
    "\n",
    "### Question 2\n",
    "# Write a Python program to find the factorial of a given number using a loop.\n",
    "\n",
    "def factorial(n):\n",
    "    result = 1\n",
    "    for i in range(1, n + 1):\n",
    "        result *= i\n",
    "    return result\n",
    "\n",
    "number = int(input(\"Enter a number: \"))\n",
    "print(f\"Factorial of {number} is {factorial(number)}.\")\n",
    "\n",
    "### Question 3\n",
    "# Write a Python program to create a list of the first 10 natural numbers and then print each number.\n",
    "\n",
    "natural_numbers = list(range(1, 11))\n",
    "for number in natural_numbers:\n",
    "    print(number)\n",
    "\n",
    "### Question 4\n",
    "# Write a Python program to calculate the sum of all numbers in a list.\n",
    "\n",
    "numbers = [1, 2, 3, 4, 5]\n",
    "print(f\"Sum of the list is {sum(numbers)}.\")\n",
    "\n",
    "### Question 5\n",
    "# Write a Python program to reverse a string.\n",
    "\n",
    "string = input(\"Enter a string: \")\n",
    "reversed_string = string[::-1]\n",
    "print(f\"Reversed string is: {reversed_string}\")\n",
    "\n",
    "### Question 6\n",
    "# Write a Python program to find the largest number in a list.\n",
    "\n",
    "numbers = [1, 2, 3, 4, 5]\n",
    "print(f\"Largest number in the list is {max(numbers)}.\")\n",
    "\n",
    "### Question 7\n",
    "# Write a Python program to print the multiplication table of any number provided by the user.\n",
    "\n",
    "number = int(input(\"Enter a number: \"))\n",
    "for i in range(1, 11):\n",
    "    print(f\"{number} x {i} = {number * i}\")\n",
    "\n",
    "### Question 8\n",
    "# Write a Python program to count the number of vowels in a string.\n",
    "\n",
    "vowels = \"aeiouAEIOU\"\n",
    "string = input(\"Enter a string: \")\n",
    "count = sum(1 for char in string if char in vowels)\n",
    "print(f\"Number of vowels in the string is: {count}\")\n",
    "\n",
    "### Question 9\n",
    "# Write a Python program to convert a list of tuples into a dictionary.\n",
    "\n",
    "tuples = [(\"one\", 1), (\"two\", 2), (\"three\", 3)]\n",
    "dictionary = dict(tuples)\n",
    "print(f\"Converted dictionary: {dictionary}\")\n",
    "\n",
    "### Question 10\n",
    "# Write a Python program to check if a given string is a palindrome.\n",
    "\n",
    "string = input(\"Enter a string: \")\n",
    "is_palindrome = string == string[::-1]\n",
    "print(f\"The string is a palindrome: {is_palindrome}\")\n"
   ]
  },
  {
   "cell_type": "markdown",
   "id": "0f93cd16",
   "metadata": {},
   "source": [
    "# Answers by Sayantan Naha (MST02-0053) :- "
   ]
  },
  {
   "cell_type": "markdown",
   "id": "67aa1763",
   "metadata": {},
   "source": [
    "### Multiple-Choice Questions (MCQs)"
   ]
  },
  {
   "cell_type": "markdown",
   "id": "30ac7776",
   "metadata": {},
   "source": [
    "## Q1\n",
    "b) float\n",
    "\n",
    "## Q2\n",
    "b) print(\"Hello World\")\n",
    "\n",
    "## Q3\n",
    "c) x = 10\n",
    "\n",
    "## Q4\n",
    "b) 8\n",
    "\n",
    "## Q5\n",
    "c) Indentation\n",
    "\n",
    "## Q6\n",
    "d) #\n",
    "\n",
    "## Q7\n",
    "a) Hello World\n",
    "\n",
    "## Q8\n",
    "a) list = [1, 2, 3]\n",
    "\n",
    "## Q9\n",
    "b) 3\n",
    "\n",
    "## Q10\n",
    "c) A tuple is immutable\n",
    "\n",
    "## Q11\n",
    "a) Greater\n",
    "\n",
    "## Q12\n",
    "c) dict = {\"one\": 1, \"two\": 2, \"three\": 3}\n",
    "\n",
    "## Q13\n",
    "b) [2, 3]\n",
    "\n",
    "## Q14\n",
    "a) append()\n",
    "c) insert()\n",
    "d) extend()\n",
    "\n",
    "## Q15\n",
    "a) try-except"
   ]
  },
  {
   "cell_type": "markdown",
   "id": "1005197c",
   "metadata": {},
   "source": [
    "### Practice Questions"
   ]
  },
  {
   "cell_type": "markdown",
   "id": "b81b39fe",
   "metadata": {},
   "source": [
    "### Question 1\n",
    "# Write a Python program to check if a number is even or odd."
   ]
  },
  {
   "cell_type": "code",
   "execution_count": 6,
   "id": "f5e00f97-195e-42c5-aee3-8e7d5e430cc9",
   "metadata": {},
   "outputs": [
    {
     "name": "stdout",
     "output_type": "stream",
     "text": [
      "Enter any number: 7\n",
      "The given number is ODD\n"
     ]
    }
   ],
   "source": [
    "num = int(input(\"Enter any number: \"))\n",
    "if num % 2 == 0:\n",
    "    print(\"You entered an EVEN number.\")\n",
    "else:\n",
    "    print(\"The given number is ODD\")"
   ]
  },
  {
   "cell_type": "markdown",
   "id": "c2b218b9",
   "metadata": {},
   "source": [
    "### Question 2\n",
    "# Write a Python program to find the factorial of a given number using a loop."
   ]
  },
  {
   "cell_type": "code",
   "execution_count": 22,
   "id": "8d4325f9-d3d3-485e-8468-460ca97740d4",
   "metadata": {},
   "outputs": [
    {
     "name": "stdout",
     "output_type": "stream",
     "text": [
      "Enter any number: 7\n",
      "Factorial Value of a given number is :  5040\n"
     ]
    }
   ],
   "source": [
    "def is_factorial(num):\n",
    "    fact = 1\n",
    "    for i in range(1, num+1):\n",
    "        fact = fact * i\n",
    "    return fact\n",
    "num = int(input(\"Enter any number: \"))\n",
    "print(\"Factorial Value of a given number is : \", is_factorial(num))"
   ]
  },
  {
   "cell_type": "markdown",
   "id": "6c41c46d",
   "metadata": {},
   "source": [
    "### Question 3\n",
    "# Write a Python program to create a list of the first 10 natural numbers and then print each number."
   ]
  },
  {
   "cell_type": "code",
   "execution_count": 26,
   "id": "f55e2885-6f89-4cd6-9fcc-8d69ed9cf981",
   "metadata": {},
   "outputs": [
    {
     "name": "stdout",
     "output_type": "stream",
     "text": [
      "1\n",
      "2\n",
      "3\n",
      "4\n",
      "5\n",
      "6\n",
      "7\n",
      "8\n",
      "9\n",
      "10\n"
     ]
    }
   ],
   "source": [
    "natural_num = list(range(1,11))\n",
    "for num in natural_num:\n",
    "    print(num)"
   ]
  },
  {
   "cell_type": "markdown",
   "id": "69754ea5",
   "metadata": {},
   "source": [
    "### Question 4\n",
    "# Write a Python program to calculate the sum of all numbers in a list."
   ]
  },
  {
   "cell_type": "code",
   "execution_count": 27,
   "id": "bcb5ab05",
   "metadata": {},
   "outputs": [
    {
     "name": "stdout",
     "output_type": "stream",
     "text": [
      "Sum of all numbers in [1, 15, 78, 23, 90, 21] is  228\n"
     ]
    }
   ],
   "source": [
    "numbers_list = [1,15,78,23,90,21]\n",
    "print(f\"Sum of all numbers in {numbers_list} is \",sum(numbers_list))"
   ]
  },
  {
   "cell_type": "markdown",
   "id": "8a09754a",
   "metadata": {},
   "source": [
    "### Question 5\n",
    "# Write a Python program to reverse a string."
   ]
  },
  {
   "cell_type": "code",
   "execution_count": 32,
   "id": "c9e18ecf",
   "metadata": {},
   "outputs": [
    {
     "name": "stdout",
     "output_type": "stream",
     "text": [
      "Enter a String: ghtys\n",
      "Reversed String will be = sythg\n"
     ]
    }
   ],
   "source": [
    "string_input = input(\"Enter a String: \")\n",
    "\n",
    "reversed_string = string_input[::-1]\n",
    "print(\"Reversed String will be =\",reversed_string)"
   ]
  },
  {
   "cell_type": "markdown",
   "id": "9ffb627a",
   "metadata": {},
   "source": [
    "### Question 7\n",
    "# Write a Python program to print the multiplication table of any number provided by the user."
   ]
  },
  {
   "cell_type": "code",
   "execution_count": 34,
   "id": "c09fa967",
   "metadata": {},
   "outputs": [
    {
     "name": "stdout",
     "output_type": "stream",
     "text": [
      "Enter a number to find it's multiplication table7\n",
      "7 X 1 = 7\n",
      "7 X 2 = 14\n",
      "7 X 3 = 21\n",
      "7 X 4 = 28\n",
      "7 X 5 = 35\n",
      "7 X 6 = 42\n",
      "7 X 7 = 49\n",
      "7 X 8 = 56\n",
      "7 X 9 = 63\n",
      "7 X 10 = 70\n"
     ]
    }
   ],
   "source": [
    "n = int(input(\"Enter a number to find it's multiplication table\"))\n",
    "for i in range(1,11):\n",
    "    print(f\"{n} X {i} =\",n*i)"
   ]
  },
  {
   "cell_type": "code",
   "execution_count": null,
   "id": "748bdca9",
   "metadata": {},
   "outputs": [],
   "source": []
  }
 ],
 "metadata": {
  "kernelspec": {
   "display_name": "Python 3 (ipykernel)",
   "language": "python",
   "name": "python3"
  },
  "language_info": {
   "codemirror_mode": {
    "name": "ipython",
    "version": 3
   },
   "file_extension": ".py",
   "mimetype": "text/x-python",
   "name": "python",
   "nbconvert_exporter": "python",
   "pygments_lexer": "ipython3",
   "version": "3.11.4"
  },
  "widgets": {
   "application/vnd.jupyter.widget-state+json": {
    "state": {},
    "version_major": 2,
    "version_minor": 0
   }
  }
 },
 "nbformat": 4,
 "nbformat_minor": 5
}
